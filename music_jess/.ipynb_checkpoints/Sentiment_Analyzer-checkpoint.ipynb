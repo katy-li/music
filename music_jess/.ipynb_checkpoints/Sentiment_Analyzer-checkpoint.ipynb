{
 "cells": [
  {
   "cell_type": "code",
   "execution_count": 2,
   "metadata": {},
   "outputs": [
    {
     "name": "stdout",
     "output_type": "stream",
     "text": [
      "Which artist would you like to search for? Taylor Swift\n"
     ]
    }
   ],
   "source": [
    "# Search Term\n",
    "search_artist = input(\"Which artist would you like to search for? \")"
   ]
  },
  {
   "cell_type": "code",
   "execution_count": 3,
   "metadata": {},
   "outputs": [
    {
     "name": "stdout",
     "output_type": "stream",
     "text": [
      "Which song would you like to search for? Mine\n"
     ]
    }
   ],
   "source": [
    "search_song = input(\"Which song would you like to search for? \")"
   ]
  },
  {
   "cell_type": "code",
   "execution_count": 5,
   "metadata": {},
   "outputs": [
    {
     "name": "stdout",
     "output_type": "stream",
     "text": [
      "{'artist': 'Taylor Swift',\n",
      " 'song_lyrics': {'Mine': 'You were in college working part-time waiting '\n",
      "                         'tables\\n'\n",
      "                         'Left a small town, never looked back\\n'\n",
      "                         'I was a flight risk, with a fear of falling\\n'\n",
      "                         'Wondering why we bother with love, if it never '\n",
      "                         'lasts\\n'\n",
      "                         '\\n'\n",
      "                         'I say, \"Can you believe it?\"\\n'\n",
      "                         \"As we're lying on the couch\\n\"\n",
      "                         'The moment I can see it\\n'\n",
      "                         'Yes, yes\\n'\n",
      "                         'I can see it now\\n'\n",
      "                         '\\n'\n",
      "                         'Do you remember we were sitting there by the water?\\n'\n",
      "                         'You put your arm around me for the first time\\n'\n",
      "                         \"You made a rebel of a careless man's careful \"\n",
      "                         'daughter\\n'\n",
      "                         \"You are the best thing that's ever been mine\\n\"\n",
      "                         '\\n'\n",
      "                         \"Flash forward and we're taking on the world \"\n",
      "                         'together\\n'\n",
      "                         \"And there's a drawer of my things at your place\\n\"\n",
      "                         \"You learn my secrets and you figure out why I'm \"\n",
      "                         'guarded\\n'\n",
      "                         \"You say we'll never make my parents' mistakes\\n\"\n",
      "                         '\\n'\n",
      "                         'But we got bills to pay\\n'\n",
      "                         'We got nothing figured out\\n'\n",
      "                         'When it was hard to take\\n'\n",
      "                         'Yes, yes\\n'\n",
      "                         'This is what I thought about\\n'\n",
      "                         '\\n'\n",
      "                         'Do you remember we were sitting there by the water?\\n'\n",
      "                         'You put your arm around me for the first time\\n'\n",
      "                         \"You made a rebel of a careless man's careful \"\n",
      "                         'daughter\\n'\n",
      "                         \"You are the best thing that's ever been mine\\n\"\n",
      "                         '\\n'\n",
      "                         'Do you remember all the city lights on the water?\\n'\n",
      "                         'You saw me start to believe for the first time\\n'\n",
      "                         \"You made a rebel of a careless man's careful \"\n",
      "                         'daughter\\n'\n",
      "                         \"You are the best thing that's ever been mine\\n\"\n",
      "                         '\\n'\n",
      "                         'And I remember that fight, 2:30 AM\\n'\n",
      "                         'As everything was slipping right out of our hands\\n'\n",
      "                         'I ran out crying and you followed me out into the '\n",
      "                         'street\\n'\n",
      "                         '\\n'\n",
      "                         'Braced myself for the goodbye\\n'\n",
      "                         \"'Cause that's all I've ever known\\n\"\n",
      "                         'Then you took me by surprise\\n'\n",
      "                         \"You said I'll never leave you alone\\n\"\n",
      "                         '\\n'\n",
      "                         'You said\\n'\n",
      "                         'I remember how we felt sitting by the water\\n'\n",
      "                         \"And every time I look at you, it's like the first \"\n",
      "                         'time\\n'\n",
      "                         \"I fell in love with a careless man's careful \"\n",
      "                         'daughter\\n'\n",
      "                         \"She is the best thing that's ever been mine\\n\"\n",
      "                         '\\n'\n",
      "                         'Hold on\\n'\n",
      "                         'Make it last\\n'\n",
      "                         'Hold on\\n'\n",
      "                         'Never turn back\\n'\n",
      "                         '\\n'\n",
      "                         \"You made a rebel of a careless man's careful \"\n",
      "                         'daughter (hold on)\\n'\n",
      "                         \"You are the best thing that's ever been mine (hold \"\n",
      "                         'on)\\n'\n",
      "                         '\\n'\n",
      "                         '(Oh yeah)\\n'\n",
      "                         'Yes, yes, do you believe it? (hold on)\\n'\n",
      "                         \"Yes, yes we're gonna make it now (hold on)\\n\"\n",
      "                         'Yes, yes, I can see it (come on, come on)\\n'\n",
      "                         'I can see it now'}}\n"
     ]
    }
   ],
   "source": [
    "import pandas as pd\n",
    "import lyricwikia\n",
    "import pprint\n",
    "\n",
    "songlist = [search_song]\n",
    "\n",
    "\n",
    "artist = search_artist\n",
    "songlyric_master = []\n",
    "songs = []\n",
    "\n",
    "\n",
    "for song in songlist:\n",
    "   lyrics = lyricwikia.get_lyrics(search_artist, search_song)\n",
    "   songlyric_master.append(lyrics)\n",
    "   songs.append(search_song)\n",
    "\n",
    "\n",
    "dicto = dict(zip(songs, songlyric_master))\n",
    "\n",
    "lyrics_dict = dict(artist = artist,\n",
    "                  song_lyrics = dicto)\n",
    "\n",
    "pprint.pprint(lyrics_dict)"
   ]
  },
  {
   "cell_type": "code",
   "execution_count": 6,
   "metadata": {},
   "outputs": [
    {
     "name": "stdout",
     "output_type": "stream",
     "text": [
      "('You were in college working part-time waiting tables\\n'\n",
      " 'Left a small town, never looked back\\n'\n",
      " 'I was a flight risk, with a fear of falling\\n'\n",
      " 'Wondering why we bother with love, if it never lasts\\n'\n",
      " '\\n'\n",
      " 'I say, \"Can you believe it?\"\\n'\n",
      " \"As we're lying on the couch\\n\"\n",
      " 'The moment I can see it\\n'\n",
      " 'Yes, yes\\n'\n",
      " 'I can see it now\\n'\n",
      " '\\n'\n",
      " 'Do you remember we were sitting there by the water?\\n'\n",
      " 'You put your arm around me for the first time\\n'\n",
      " \"You made a rebel of a careless man's careful daughter\\n\"\n",
      " \"You are the best thing that's ever been mine\\n\"\n",
      " '\\n'\n",
      " \"Flash forward and we're taking on the world together\\n\"\n",
      " \"And there's a drawer of my things at your place\\n\"\n",
      " \"You learn my secrets and you figure out why I'm guarded\\n\"\n",
      " \"You say we'll never make my parents' mistakes\\n\"\n",
      " '\\n'\n",
      " 'But we got bills to pay\\n'\n",
      " 'We got nothing figured out\\n'\n",
      " 'When it was hard to take\\n'\n",
      " 'Yes, yes\\n'\n",
      " 'This is what I thought about\\n'\n",
      " '\\n'\n",
      " 'Do you remember we were sitting there by the water?\\n'\n",
      " 'You put your arm around me for the first time\\n'\n",
      " \"You made a rebel of a careless man's careful daughter\\n\"\n",
      " \"You are the best thing that's ever been mine\\n\"\n",
      " '\\n'\n",
      " 'Do you remember all the city lights on the water?\\n'\n",
      " 'You saw me start to believe for the first time\\n'\n",
      " \"You made a rebel of a careless man's careful daughter\\n\"\n",
      " \"You are the best thing that's ever been mine\\n\"\n",
      " '\\n'\n",
      " 'And I remember that fight, 2:30 AM\\n'\n",
      " 'As everything was slipping right out of our hands\\n'\n",
      " 'I ran out crying and you followed me out into the street\\n'\n",
      " '\\n'\n",
      " 'Braced myself for the goodbye\\n'\n",
      " \"'Cause that's all I've ever known\\n\"\n",
      " 'Then you took me by surprise\\n'\n",
      " \"You said I'll never leave you alone\\n\"\n",
      " '\\n'\n",
      " 'You said\\n'\n",
      " 'I remember how we felt sitting by the water\\n'\n",
      " \"And every time I look at you, it's like the first time\\n\"\n",
      " \"I fell in love with a careless man's careful daughter\\n\"\n",
      " \"She is the best thing that's ever been mine\\n\"\n",
      " '\\n'\n",
      " 'Hold on\\n'\n",
      " 'Make it last\\n'\n",
      " 'Hold on\\n'\n",
      " 'Never turn back\\n'\n",
      " '\\n'\n",
      " \"You made a rebel of a careless man's careful daughter (hold on)\\n\"\n",
      " \"You are the best thing that's ever been mine (hold on)\\n\"\n",
      " '\\n'\n",
      " '(Oh yeah)\\n'\n",
      " 'Yes, yes, do you believe it? (hold on)\\n'\n",
      " \"Yes, yes we're gonna make it now (hold on)\\n\"\n",
      " 'Yes, yes, I can see it (come on, come on)\\n'\n",
      " 'I can see it now')\n"
     ]
    }
   ],
   "source": [
    "pprint.pprint(lyrics_dict['song_lyrics'][search_song])"
   ]
  },
  {
   "cell_type": "code",
   "execution_count": 7,
   "metadata": {},
   "outputs": [],
   "source": [
    "text = lyrics_dict['song_lyrics'][search_song]"
   ]
  },
  {
   "cell_type": "code",
   "execution_count": 8,
   "metadata": {},
   "outputs": [
    {
     "name": "stdout",
     "output_type": "stream",
     "text": [
      "Compound: 0.986\n",
      "Positive: 0.163\n",
      "Neutral: 0.741\n",
      "Negative: 0.095\n"
     ]
    }
   ],
   "source": [
    "import numpy as np\n",
    "from vaderSentiment.vaderSentiment import SentimentIntensityAnalyzer\n",
    "analyzer = SentimentIntensityAnalyzer()\n",
    "\n",
    "# Run Vader Analysis on each tweet\n",
    "results = analyzer.polarity_scores(text)\n",
    "compound = results[\"compound\"]\n",
    "pos = results[\"pos\"]\n",
    "neu = results[\"neu\"]\n",
    "neg = results[\"neg\"]\n",
    "\n",
    "print(f\"Compound: {compound:.3f}\")\n",
    "print(f\"Positive: {pos:.3f}\")\n",
    "print(f\"Neutral: {neu:.3f}\")\n",
    "print(f\"Negative: {neg:.3f}\")"
   ]
  },
  {
   "cell_type": "code",
   "execution_count": 9,
   "metadata": {},
   "outputs": [],
   "source": [
    "x = compound\n",
    "if -1.0 < x < -0.6:\n",
    "    arrow = 1\n",
    "elif -0.6 < x < -0.2:\n",
    "    arrow = 2\n",
    "elif -0.2 < x < 0.2:\n",
    "    arrow = 3\n",
    "elif 0.2 < x < 0.6:\n",
    "    arrow = 4\n",
    "elif 0.6 < x < 1.0:\n",
    "    arrow = 5"
   ]
  },
  {
   "cell_type": "code",
   "execution_count": 10,
   "metadata": {},
   "outputs": [],
   "source": [
    "%matplotlib inline"
   ]
  },
  {
   "cell_type": "code",
   "execution_count": 11,
   "metadata": {},
   "outputs": [],
   "source": [
    "import os, sys\n",
    "import matplotlib\n",
    "from matplotlib import cm\n",
    "from matplotlib import pyplot as plt\n",
    "import numpy as np"
   ]
  },
  {
   "cell_type": "code",
   "execution_count": 12,
   "metadata": {},
   "outputs": [],
   "source": [
    "from matplotlib.patches import Circle, Wedge, Rectangle"
   ]
  },
  {
   "cell_type": "code",
   "execution_count": 13,
   "metadata": {},
   "outputs": [],
   "source": [
    "def degree_range(n): \n",
    "    start = np.linspace(0,180,n+1, endpoint=True)[0:-1]\n",
    "    end = np.linspace(0,180,n+1, endpoint=True)[1::]\n",
    "    mid_points = start + ((end-start)/2.)\n",
    "    return np.c_[start, end], mid_points"
   ]
  },
  {
   "cell_type": "code",
   "execution_count": 14,
   "metadata": {},
   "outputs": [],
   "source": [
    "def rot_text(ang): \n",
    "    rotation = np.degrees(np.radians(ang) * np.pi / np.pi - np.radians(90))\n",
    "    return rotation"
   ]
  },
  {
   "cell_type": "code",
   "execution_count": 19,
   "metadata": {},
   "outputs": [],
   "source": [
    "def gauge(labels=['LOW','MEDIUM','HIGH','VERY HIGH','EXTREME'], \\\n",
    "          colors='jet_r', arrow=1, title='', fname=False): \n",
    "    \n",
    "    \"\"\"\n",
    "    some sanity checks first\n",
    "    \n",
    "    \"\"\"\n",
    "    \n",
    "    N = len(labels)\n",
    "    \n",
    "    if arrow > N: \n",
    "        raise Exception(\"\\n\\nThe category ({}) is greated than \\\n",
    "        the length\\nof the labels ({})\".format(arrow, N))\n",
    " \n",
    "    \n",
    "    \"\"\"\n",
    "    if colors is a string, we assume it's a matplotlib colormap\n",
    "    and we discretize in N discrete colors \n",
    "    \"\"\"\n",
    "    \n",
    "    if isinstance(colors, str):\n",
    "        cmap = cm.get_cmap(colors, N)\n",
    "        cmap = cmap(np.arange(N))\n",
    "        colors = cmap[::-1,:].tolist()\n",
    "    if isinstance(colors, list): \n",
    "        if len(colors) == N:\n",
    "            colors = colors[::-1]\n",
    "        else: \n",
    "            raise Exception(\"\\n\\nnumber of colors {} not equal \\\n",
    "            to number of categories{}\\n\".format(len(colors), N))\n",
    "\n",
    "    \"\"\"\n",
    "    begins the plotting\n",
    "    \"\"\"\n",
    "    \n",
    "    fig, ax = plt.subplots()\n",
    "\n",
    "    ang_range, mid_points = degree_range(N)\n",
    "\n",
    "    labels = labels[::-1]\n",
    "    \n",
    "    \"\"\"\n",
    "    plots the sectors and the arcs\n",
    "    \"\"\"\n",
    "    patches = []\n",
    "    for ang, c in zip(ang_range, colors): \n",
    "        # sectors\n",
    "        patches.append(Wedge((0.,0.), .4, *ang, facecolor='w', lw=2))\n",
    "        # arcs\n",
    "        patches.append(Wedge((0.,0.), .4, *ang, width=0.10, facecolor=c, lw=2, alpha=0.5))\n",
    "    \n",
    "    [ax.add_patch(p) for p in patches]\n",
    "\n",
    "    \n",
    "    \"\"\"\n",
    "    set the labels (e.g. 'LOW','MEDIUM',...)\n",
    "    \"\"\"\n",
    "\n",
    "    for mid, lab in zip(mid_points, labels): \n",
    "\n",
    "        ax.text(0.35 * np.cos(np.radians(mid)), 0.35 * np.sin(np.radians(mid)), lab, \\\n",
    "            horizontalalignment='center', verticalalignment='center', fontsize=12, \\\n",
    "            fontweight='bold', rotation = rot_text(mid))\n",
    "\n",
    "    \"\"\"\n",
    "    set the bottom banner and the title\n",
    "    \"\"\"\n",
    "    r = Rectangle((-0.4,-0.1),0.8,0.1, facecolor='w', lw=2)\n",
    "    ax.add_patch(r)\n",
    "    \n",
    "    ax.text(0, -0.05, title, horizontalalignment='center', \\\n",
    "         verticalalignment='center', fontsize=22, fontweight='bold')\n",
    "\n",
    "    \"\"\"\n",
    "    plots the arrow now\n",
    "    \"\"\"\n",
    "    \n",
    "    pos = mid_points[abs(arrow - N)]\n",
    "    \n",
    "    ax.arrow(0, 0, 0.225 * np.cos(np.radians(pos)), 0.225 * np.sin(np.radians(pos)), \\\n",
    "                 width=0.04, head_width=0.09, head_length=0.1, fc='k', ec='k')\n",
    "    \n",
    "    ax.add_patch(Circle((0, 0), radius=0.02, facecolor='k'))\n",
    "    ax.add_patch(Circle((0, 0), radius=0.01, facecolor='w', zorder=11))\n",
    "\n",
    "    \"\"\"\n",
    "    removes frame and ticks, and makes axis equal and tight\n",
    "    \"\"\"\n",
    "    \n",
    "    ax.set_frame_on(False)\n",
    "    ax.axes.set_xticks([])\n",
    "    ax.axes.set_yticks([])\n",
    "    ax.axis('equal')\n",
    "    plt.tight_layout()\n",
    "    if fname:\n",
    "        fig.savefig(fname, dpi=200)"
   ]
  },
  {
   "cell_type": "code",
   "execution_count": 20,
   "metadata": {},
   "outputs": [
    {
     "data": {
      "image/png": "[encoded data removed]",
      "text/plain": [
       "<Figure size 432x288 with 1 Axes>"
      ]
     },
     "metadata": {},
     "output_type": "display_data"
    }
   ],
   "source": [
    "gauge(labels=['Ramen Noodles','Mixed Nuts','Bran Flakes', 'Fresh Fruit','Pure Sugar'], \\\n",
    "      colors='RdBu', arrow=arrow, title='Salty or Sweet?') \n"
   ]
  },
  {
   "cell_type": "code",
   "execution_count": null,
   "metadata": {},
   "outputs": [],
   "source": []
  }
 ],
 "metadata": {
  "kernelspec": {
   "display_name": "Python 3",
   "language": "python",
   "name": "python3"
  },
  "language_info": {
   "codemirror_mode": {
    "name": "ipython",
    "version": 3
   },
   "file_extension": ".py",
   "mimetype": "text/x-python",
   "name": "python",
   "nbconvert_exporter": "python",
   "pygments_lexer": "ipython3",
   "version": "3.6.5"
  }
 },
 "nbformat": 4,
 "nbformat_minor": 2
}
