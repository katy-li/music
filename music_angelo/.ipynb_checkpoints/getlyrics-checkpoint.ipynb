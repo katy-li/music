{
 "cells": [
  {
   "cell_type": "code",
   "execution_count": 1,
   "metadata": {},
   "outputs": [
    {
     "ename": "ImportError",
     "evalue": "cannot import name 'abc'",
     "output_type": "error",
     "traceback": [
      "\u001b[1;31m---------------------------------------------------------------------------\u001b[0m",
      "\u001b[1;31mImportError\u001b[0m                               Traceback (most recent call last)",
      "\u001b[1;32m<ipython-input-1-ee6bf0c01586>\u001b[0m in \u001b[0;36m<module>\u001b[1;34m()\u001b[0m\n\u001b[0;32m      3\u001b[0m \u001b[1;32mimport\u001b[0m \u001b[0mlyricwikia\u001b[0m\u001b[1;33m\u001b[0m\u001b[0m\n\u001b[0;32m      4\u001b[0m \u001b[1;32mimport\u001b[0m \u001b[0mtime\u001b[0m\u001b[1;33m\u001b[0m\u001b[0m\n\u001b[1;32m----> 5\u001b[1;33m \u001b[1;32mimport\u001b[0m \u001b[0mpymongo\u001b[0m\u001b[1;33m\u001b[0m\u001b[0m\n\u001b[0m\u001b[0;32m      6\u001b[0m \u001b[1;32mimport\u001b[0m \u001b[0mpandas\u001b[0m \u001b[1;32mas\u001b[0m \u001b[0mpd\u001b[0m\u001b[1;33m\u001b[0m\u001b[0m\n\u001b[0;32m      7\u001b[0m \u001b[1;32mimport\u001b[0m \u001b[0mjson\u001b[0m\u001b[1;33m\u001b[0m\u001b[0m\n",
      "\u001b[1;32m~\\Anaconda3\\lib\\site-packages\\pymongo\\__init__.py\u001b[0m in \u001b[0;36m<module>\u001b[1;34m()\u001b[0m\n\u001b[0;32m     75\u001b[0m \u001b[1;34m\"\"\"Current version of PyMongo.\"\"\"\u001b[0m\u001b[1;33m\u001b[0m\u001b[0m\n\u001b[0;32m     76\u001b[0m \u001b[1;33m\u001b[0m\u001b[0m\n\u001b[1;32m---> 77\u001b[1;33m \u001b[1;32mfrom\u001b[0m \u001b[0mpymongo\u001b[0m\u001b[1;33m.\u001b[0m\u001b[0mcollection\u001b[0m \u001b[1;32mimport\u001b[0m \u001b[0mReturnDocument\u001b[0m\u001b[1;33m\u001b[0m\u001b[0m\n\u001b[0m\u001b[0;32m     78\u001b[0m from pymongo.common import (MIN_SUPPORTED_WIRE_VERSION,\n\u001b[0;32m     79\u001b[0m                             MAX_SUPPORTED_WIRE_VERSION)\n",
      "\u001b[1;32m~\\Anaconda3\\lib\\site-packages\\pymongo\\collection.py\u001b[0m in \u001b[0;36m<module>\u001b[1;34m()\u001b[0m\n\u001b[0;32m     18\u001b[0m \u001b[1;32mimport\u001b[0m \u001b[0mwarnings\u001b[0m\u001b[1;33m\u001b[0m\u001b[0m\n\u001b[0;32m     19\u001b[0m \u001b[1;33m\u001b[0m\u001b[0m\n\u001b[1;32m---> 20\u001b[1;33m \u001b[1;32mfrom\u001b[0m \u001b[0mbson\u001b[0m\u001b[1;33m.\u001b[0m\u001b[0mcode\u001b[0m \u001b[1;32mimport\u001b[0m \u001b[0mCode\u001b[0m\u001b[1;33m\u001b[0m\u001b[0m\n\u001b[0m\u001b[0;32m     21\u001b[0m \u001b[1;32mfrom\u001b[0m \u001b[0mbson\u001b[0m\u001b[1;33m.\u001b[0m\u001b[0mobjectid\u001b[0m \u001b[1;32mimport\u001b[0m \u001b[0mObjectId\u001b[0m\u001b[1;33m\u001b[0m\u001b[0m\n\u001b[0;32m     22\u001b[0m from bson.py3compat import (_unicode,\n",
      "\u001b[1;32m~\\Anaconda3\\lib\\site-packages\\bson\\code.py\u001b[0m in \u001b[0;36m<module>\u001b[1;34m()\u001b[0m\n\u001b[0;32m     16\u001b[0m \"\"\"\n\u001b[0;32m     17\u001b[0m \u001b[1;33m\u001b[0m\u001b[0m\n\u001b[1;32m---> 18\u001b[1;33m \u001b[1;32mfrom\u001b[0m \u001b[0mbson\u001b[0m\u001b[1;33m.\u001b[0m\u001b[0mpy3compat\u001b[0m \u001b[1;32mimport\u001b[0m \u001b[0mabc\u001b[0m\u001b[1;33m,\u001b[0m \u001b[0mstring_type\u001b[0m\u001b[1;33m,\u001b[0m \u001b[0mPY3\u001b[0m\u001b[1;33m,\u001b[0m \u001b[0mtext_type\u001b[0m\u001b[1;33m\u001b[0m\u001b[0m\n\u001b[0m\u001b[0;32m     19\u001b[0m \u001b[1;33m\u001b[0m\u001b[0m\n\u001b[0;32m     20\u001b[0m \u001b[1;33m\u001b[0m\u001b[0m\n",
      "\u001b[1;31mImportError\u001b[0m: cannot import name 'abc'"
     ]
    }
   ],
   "source": [
    "import billboard\n",
    "import pandas\n",
    "import lyricwikia\n",
    "import time\n",
    "import pymongo\n",
    "import pandas as pd\n",
    "import json\n",
    "import requests\n",
    "import numpy as np\n",
    "\n",
    "from pprint import pprint"
   ]
  },
  {
   "cell_type": "code",
   "execution_count": null,
   "metadata": {},
   "outputs": [],
   "source": [
    "conn = 'mongodb://localhost:27017'\n",
    "client = pymongo.MongoClient(conn)\n",
    "db = client.christmascarol\n",
    "\n",
    "date = '2018-12-22'\n",
    "\n",
    "doc = db.billy_boards_first_run.aggregate( \n",
    "[ { \"$match\" : { 'currentChartWeek' : date } } ]\n",
    ")\n",
    "\n",
    "songs = []\n",
    "artists = []\n",
    "\n",
    "\n",
    "for d in doc:\n",
    "    \n",
    "    hot100 = d['hot100']\n",
    "        \n",
    "hot100_df = pd.DataFrame(hot100)      \n",
    "\n",
    "hot100_df.head(3)"
   ]
  },
  {
   "cell_type": "code",
   "execution_count": null,
   "metadata": {},
   "outputs": [],
   "source": [
    "print(date)\n",
    "date = date\n",
    "\n",
    "doc = db.billy_boards_200.aggregate(\n",
    "    [ { \"$match\" : { 'currentChartWeek' : date } } ])\n",
    "\n",
    "# aggregate( \n",
    "# [ { \"$match\" : { 'currentChartWeek' : date } } ]\n",
    "# )\n",
    "\n",
    "\n",
    "\n",
    "for d in doc:\n",
    "    pprint(d)"
   ]
  },
  {
   "cell_type": "code",
   "execution_count": null,
   "metadata": {},
   "outputs": [],
   "source": [
    "songlyric_master = []\n",
    "\n",
    "for i, row in hot100_df.iterrows():\n",
    "    print(i)\n",
    "    lyrics = \"\"\n",
    "#     print(lyrics)\n",
    "    \n",
    "    artist = row['Song_artist']\n",
    "    title = row['Song_title']\n",
    "    \n",
    "    print(artist)\n",
    "    print(title)\n",
    "#     print(lyrics)\n",
    "    \n",
    "    lyrics = lyricwikia.get_lyrics(artist, title)\n",
    "    time.sleep(1.5)    \n",
    "    songlyric_master.append(lyrics)\n",
    "    \n",
    "#     print(lyrics)\n",
    "    "
   ]
  },
  {
   "cell_type": "code",
   "execution_count": null,
   "metadata": {},
   "outputs": [],
   "source": [
    "# lyrics = pd.DataFrame({\"lyrics\": songlyric_master})\n",
    "# print(lyrics)\n",
    "# chart_w_lyrics = pd.concat([hot100_df, lyrics])\n",
    "# chart_w_lyrics"
   ]
  },
  {
   "cell_type": "code",
   "execution_count": null,
   "metadata": {},
   "outputs": [],
   "source": []
  }
 ],
 "metadata": {
  "kernelspec": {
   "display_name": "Python 3",
   "language": "python",
   "name": "python3"
  },
  "language_info": {
   "codemirror_mode": {
    "name": "ipython",
    "version": 3
   },
   "file_extension": ".py",
   "mimetype": "text/x-python",
   "name": "python",
   "nbconvert_exporter": "python",
   "pygments_lexer": "ipython3",
   "version": "3.6.5"
  }
 },
 "nbformat": 4,
 "nbformat_minor": 2
}
