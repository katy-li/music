{
 "cells": [
  {
   "cell_type": "code",
   "execution_count": 1,
   "metadata": {},
   "outputs": [],
   "source": [
    "import billboard\n",
    "import pandas\n",
    "import lyricwikia\n",
    "import time\n",
    "import pymongo"
   ]
  },
  {
   "cell_type": "code",
   "execution_count": 2,
   "metadata": {},
   "outputs": [],
   "source": [
    "def doworkson(hotchart, chartname):\n",
    "    \n",
    "    #takes the instance data and gets what he needs.\n",
    "    #requires fresh instance from billboard.py hotchart\n",
    "    #and a user chartname    \n",
    "        \n",
    "    #holder for unique artists in each chart....we can expand upon this later if we want more derived stats\n",
    "    artists = []\n",
    "    \n",
    "    #gets current chart\n",
    "    currentChartWeek = hotchart.date\n",
    "\n",
    "    #creates dictionary based on unique inputs\n",
    "    keys = [currentChartWeek, chartname]\n",
    "    values = [currentChartWeek, []]\n",
    "    \n",
    "    #creation of a very hot dictionary\n",
    "    hottydict = dict(zip(keys, values))\n",
    "\n",
    "    #squeezes the data juices\n",
    "    for hotty in hotchart:\n",
    "\n",
    "        title = hotty.title\n",
    "        artist = hotty.artist\n",
    "        \n",
    "        #we can talk to expand derived stats to get more data juices\n",
    "        if artist not in artists:\n",
    "\n",
    "            artists.append(artist)\n",
    "        \n",
    "        #songweeks = weeks on chart\n",
    "        songweeks = hotty.weeks\n",
    "        \n",
    "        #peakPos = peak spot on chart\n",
    "        peakPos = hotty.peakPos\n",
    "        \n",
    "        #lastPos = last weeks spot on chart\n",
    "        lastPos = hotty.lastPos\n",
    "        \n",
    "        #rank = rank on this chart\n",
    "        rank = hotty.rank\n",
    "        \n",
    "        #isNew = isNew true or false\n",
    "        isNew = hotty.isNew\n",
    "\n",
    "        #caliente=hot\n",
    "        hottydict[chartname].append(dict(\n",
    "                                      Song_title = title,\n",
    "                                      Song_artist = artist,\n",
    "                                      Song_duration_weeks = songweeks,\n",
    "                                      Song_peak = peakPos,\n",
    "                                      Song_last_week = lastPos,\n",
    "                                      Song_rank = rank,\n",
    "                                      Song_isNew = isNew,\n",
    "                                        )\n",
    "                                    )\n",
    "    #throw on the unique artist list\n",
    "    hottydict['featured_artists_billboard_hot100'] = artists\n",
    "    \n",
    "    #creates and appends derived stat\n",
    "    artistmixes = len(artists)\n",
    "    top100 = len(hotchart)\n",
    "    total_artists_featured_perc = artistmixes/top100\n",
    "    hottydict['total_artists_featured_perc'] = total_artists_featured_perc\n",
    "    \n",
    "    return hottydict"
   ]
  },
  {
   "cell_type": "code",
   "execution_count": 3,
   "metadata": {},
   "outputs": [],
   "source": [
    "def mongoify(done_son, collectionname):\n",
    "    return db[collectionname].insert_one(done_son)"
   ]
  },
  {
   "cell_type": "code",
   "execution_count": 4,
   "metadata": {},
   "outputs": [],
   "source": [
    "def doing_work(chartname, collectionname):\n",
    "    ###this guy runs the show, take him and feed him the chartname from billboard.com you want to scrape\n",
    "    ###he also needs a collectionname to be happy so pick a name to remember for mongo. We can reference to pull from later    \n",
    "    \n",
    "    \n",
    "    hotchart = billboard.ChartData(chartname)\n",
    "    ###the beauty is this guy sucks em dry. They're are no time filters but we'll get them through mongo later\n",
    "    while hotchart.previousDate:\n",
    "        \n",
    "        #done_son = hottydict -result of function doworkson and contains the meat\n",
    "        done_son = doworkson(hotchart, chartname)\n",
    "        mongoify(done_son, collectionname)\n",
    "\n",
    "\n",
    "        hotchart = billboard.ChartData(chartname, hotchart.previousDate)\n",
    "        \n",
    "    return"
   ]
  },
  {
   "cell_type": "code",
   "execution_count": 5,
   "metadata": {},
   "outputs": [],
   "source": [
    "conn = 'mongodb://localhost:27017'\n",
    "client = pymongo.MongoClient(conn)\n",
    "\n",
    "db = client.christmascarol"
   ]
  },
  {
   "cell_type": "code",
   "execution_count": 6,
   "metadata": {},
   "outputs": [],
   "source": [
    "#####CHANGE CHARTNAME TO WHAT YOU WANT\n",
    "#####CHANGE COLLECTIONNAME TO WHAT YOU WANT\n",
    "\n",
    "###select chart to scrape - chartname\n",
    "# chartname = 'billboard-200' ---scraped\n",
    "chartname = \"\"\n",
    "\n",
    "# ### change collection name\n",
    "# collectionname = 'billy_boards_200' ---scraped\n",
    "collectionname = \"\"\n",
    "\n",
    "doing_work(chartname, collectionname)\n",
    "\n",
    "\n",
    "\n"
   ]
  }
 ],
 "metadata": {
  "kernelspec": {
   "display_name": "Python 3",
   "language": "python",
   "name": "python3"
  },
  "language_info": {
   "codemirror_mode": {
    "name": "ipython",
    "version": 3
   },
   "file_extension": ".py",
   "mimetype": "text/x-python",
   "name": "python",
   "nbconvert_exporter": "python",
   "pygments_lexer": "ipython3",
   "version": "3.6.5"
  }
 },
 "nbformat": 4,
 "nbformat_minor": 2
}
