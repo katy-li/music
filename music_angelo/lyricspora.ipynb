{
 "cells": [
  {
   "cell_type": "code",
   "execution_count": 8,
   "metadata": {},
   "outputs": [],
   "source": [
    "import lyricscorpora as lc\n",
    "import pandas as pd\n",
    "from pprint import pprint"
   ]
  },
  {
   "cell_type": "code",
   "execution_count": 2,
   "metadata": {},
   "outputs": [],
   "source": [
    "artist_list = [\"Madonna\",\n",
    "\"Lady Gaga\",\n",
    "\"Elton John\",\n",
    "\"Kanye West\",\n",
    "\"Taylor Swift\",\n",
    "\"Rihanna\",\n",
    "\"Nicki Minaj\",\n",
    "\"Katy Perry\",\n",
    "\"John Mayer\",\n",
    "\"Ciara\",\n",
    "\"Drake\",\n",
    "\"Lil' Kim\",\n",
    "\"Miley Cyrus\",\n",
    "\"Jay Z\",\n",
    "\"Remy Ma\",\n",
    "\"Mariah Carey\",\n",
    "\"Meek Mill\",\n",
    "\"Chris Brown\",\n",
    "\"Sinead O'Connor\"]"
   ]
  },
  {
   "cell_type": "code",
   "execution_count": 25,
   "metadata": {},
   "outputs": [],
   "source": [
    "elton = lc.Artist(\"Drake\")\n"
   ]
  },
  {
   "cell_type": "code",
   "execution_count": 28,
   "metadata": {},
   "outputs": [
    {
     "name": "stdout",
     "output_type": "stream",
     "text": [
      "http://lyrics.wikia.com//wiki/Drake:Room_For_Improvement_(2006)\n",
      "http://lyrics.wikia.com//wiki/Drake:Comeback_Season_(2007)\n",
      "http://lyrics.wikia.com//wiki/Drake:Born_Successful_(2009)\n",
      "http://lyrics.wikia.com//wiki/Drake:So_Far_Gone_(2009)\n",
      "http://lyrics.wikia.com//wiki/Drake_%26_Lil_Wayne:Young_Money_All_Stars,_Part_2_(2009)\n",
      "http://lyrics.wikia.com//wiki/Drake:Young_Sweet_Jones_(2010)\n",
      "http://lyrics.wikia.com//wiki/Drake:Thank_Me_Later_(2010)\n",
      "http://lyrics.wikia.com//wiki/Drake:Take_Care_(2011)\n",
      "http://lyrics.wikia.com//wiki/Drake:Nothing_Was_The_Same_(2013)\n",
      "http://lyrics.wikia.com//wiki/Drake:If_You%27re_Reading_This_It%27s_Too_Late_(2015)\n",
      "http://lyrics.wikia.com//wiki/Drake_%26_Future:What_A_Time_To_Be_Alive_(2015)\n",
      "http://lyrics.wikia.com//wiki/Drake:Views_(2016)\n",
      "http://lyrics.wikia.com//wiki/Drake:More_Life_(2017)\n",
      "http://lyrics.wikia.com//wiki/Drake:Scary_Hours_(2018)\n",
      "http://lyrics.wikia.com//wiki/Drake:Scorpion_(2018)\n"
     ]
    }
   ],
   "source": [
    "elton_albums = elton.get_album_list()\n",
    "\n",
    "\n",
    "\n",
    "for album in elton_albums:\n",
    "    name_album = album.name\n",
    "    album_link = album.link\n",
    "    print(album_link)\n",
    "    \n",
    "    \n",
    "    \n",
    "    "
   ]
  },
  {
   "cell_type": "code",
   "execution_count": 27,
   "metadata": {},
   "outputs": [
    {
     "name": "stdout",
     "output_type": "stream",
     "text": [
      "[Album(title=Room For Improvement, artist=Artist(name=Drake)), Album(title=Comeback Season, artist=Artist(name=Drake)), Album(title=Born Successful, artist=Artist(name=Drake)), Album(title=So Far Gone, artist=Artist(name=Drake)), Album(title=Young Money All Stars, Part 2, artist=Artist(name=Drake)), Album(title=Young Sweet Jones, artist=Artist(name=Drake)), Album(title=Thank Me Later, artist=Artist(name=Drake)), Album(title=Take Care, artist=Artist(name=Drake)), Album(title=Nothing Was The Same, artist=Artist(name=Drake)), Album(title=If You're Reading This It's Too Late, artist=Artist(name=Drake)), Album(title=What A Time To Be Alive, artist=Artist(name=Drake)), Album(title=Views, artist=Artist(name=Drake)), Album(title=More Life, artist=Artist(name=Drake)), Album(title=Scary Hours, artist=Artist(name=Drake)), Album(title=Scorpion, artist=Artist(name=Drake))]\n",
      "Album(title=Thank Me Later, artist=Artist(name=Drake))\n"
     ]
    },
    {
     "ename": "AttributeError",
     "evalue": "'NoneType' object has no attribute 'append'",
     "output_type": "error",
     "traceback": [
      "\u001b[1;31m---------------------------------------------------------------------------\u001b[0m",
      "\u001b[1;31mAttributeError\u001b[0m                            Traceback (most recent call last)",
      "\u001b[1;32m<ipython-input-27-2f19806a8c50>\u001b[0m in \u001b[0;36m<module>\u001b[1;34m()\u001b[0m\n\u001b[0;32m      6\u001b[0m \u001b[0mprint\u001b[0m\u001b[1;33m(\u001b[0m\u001b[0malbum\u001b[0m\u001b[1;33m)\u001b[0m\u001b[1;33m\u001b[0m\u001b[0m\n\u001b[0;32m      7\u001b[0m \u001b[1;33m\u001b[0m\u001b[0m\n\u001b[1;32m----> 8\u001b[1;33m \u001b[0msongList\u001b[0m \u001b[1;33m=\u001b[0m \u001b[0malbum\u001b[0m\u001b[1;33m.\u001b[0m\u001b[0mget_song_list\u001b[0m\u001b[1;33m(\u001b[0m\u001b[1;33m)\u001b[0m\u001b[1;33m\u001b[0m\u001b[0m\n\u001b[0m\u001b[0;32m      9\u001b[0m \u001b[0mprint\u001b[0m\u001b[1;33m(\u001b[0m\u001b[0msongList\u001b[0m\u001b[1;33m)\u001b[0m\u001b[1;33m\u001b[0m\u001b[0m\n\u001b[0;32m     10\u001b[0m \u001b[1;33m\u001b[0m\u001b[0m\n",
      "\u001b[1;32m~\\Anaconda3\\lib\\site-packages\\lyricscorpora.py\u001b[0m in \u001b[0;36mget_song_list\u001b[1;34m(self)\u001b[0m\n\u001b[0;32m    103\u001b[0m                     \u001b[0msong\u001b[0m\u001b[1;33m.\u001b[0m\u001b[0mlink\u001b[0m \u001b[1;33m=\u001b[0m \u001b[0murl\u001b[0m\u001b[1;33m\u001b[0m\u001b[0m\n\u001b[0;32m    104\u001b[0m                     \u001b[0msong\u001b[0m\u001b[1;33m.\u001b[0m\u001b[0martist\u001b[0m \u001b[1;33m=\u001b[0m \u001b[0mself\u001b[0m\u001b[1;33m.\u001b[0m\u001b[0martist\u001b[0m\u001b[1;33m\u001b[0m\u001b[0m\n\u001b[1;32m--> 105\u001b[1;33m                     \u001b[0mself\u001b[0m\u001b[1;33m.\u001b[0m\u001b[0msong_list\u001b[0m \u001b[1;33m=\u001b[0m \u001b[0mself\u001b[0m\u001b[1;33m.\u001b[0m\u001b[0msong_list\u001b[0m\u001b[1;33m.\u001b[0m\u001b[0mappend\u001b[0m\u001b[1;33m(\u001b[0m\u001b[0msong\u001b[0m\u001b[1;33m)\u001b[0m\u001b[1;33m\u001b[0m\u001b[0m\n\u001b[0m\u001b[0;32m    106\u001b[0m         \u001b[1;32mreturn\u001b[0m \u001b[0mself\u001b[0m\u001b[1;33m.\u001b[0m\u001b[0msong_list\u001b[0m\u001b[1;33m\u001b[0m\u001b[0m\n\u001b[0;32m    107\u001b[0m \u001b[1;33m\u001b[0m\u001b[0m\n",
      "\u001b[1;31mAttributeError\u001b[0m: 'NoneType' object has no attribute 'append'"
     ]
    }
   ],
   "source": [
    "artist = lc.Artist(\"Drake\")\n",
    "albumList = artist.get_album_list()\n",
    "print(albumList)\n",
    "\n",
    "album = albumList[6]\n",
    "print(album)\n",
    "\n",
    "songList = album.get_song_list()\n",
    "print(songList)\n",
    "\n",
    "song = songList[1]\n",
    "song.get_lyrics()\n"
   ]
  },
  {
   "cell_type": "code",
   "execution_count": null,
   "metadata": {},
   "outputs": [],
   "source": []
  }
 ],
 "metadata": {
  "kernelspec": {
   "display_name": "Python 3",
   "language": "python",
   "name": "python3"
  },
  "language_info": {
   "codemirror_mode": {
    "name": "ipython",
    "version": 3
   },
   "file_extension": ".py",
   "mimetype": "text/x-python",
   "name": "python",
   "nbconvert_exporter": "python",
   "pygments_lexer": "ipython3",
   "version": "3.6.5"
  }
 },
 "nbformat": 4,
 "nbformat_minor": 2
}
