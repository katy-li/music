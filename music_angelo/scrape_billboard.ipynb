{
 "cells": [
  {
   "cell_type": "code",
   "execution_count": 1,
   "metadata": {},
   "outputs": [],
   "source": [
    "import billboard\n",
    "import pandas\n",
    "import lyricwikia\n",
    "import time\n",
    "import pymongo"
   ]
  },
  {
   "cell_type": "code",
   "execution_count": null,
   "metadata": {},
   "outputs": [],
   "source": [
    "# songlyric_master = []\n",
    "# Song_lyrics = lyrics\n",
    "# lyrics = lyricwikia.get_lyrics(artist, title)\n",
    "# time.sleep(1)"
   ]
  },
  {
   "cell_type": "code",
   "execution_count": 2,
   "metadata": {},
   "outputs": [],
   "source": [
    "def doworkson(hotchart):\n",
    "    \n",
    "    artists = []\n",
    "    \n",
    "    currentChartWeek = hotchart.date\n",
    "\n",
    "    hottydict = dict(\n",
    "                currentChartWeek = currentChartWeek,\n",
    "                hot100 = [])   \n",
    "\n",
    "    for hotty in hotchart:\n",
    "\n",
    "        title = hotty.title\n",
    "        artist = hotty.artist\n",
    "        \n",
    "        if artist not in artists:\n",
    "\n",
    "            artists.append(artist)\n",
    "        \n",
    "        songweeks = hotty.weeks\n",
    "        peakPos = hotty.peakPos\n",
    "        lastPos = hotty.lastPos\n",
    "        rank = hotty.rank\n",
    "        isNew = hotty.isNew\n",
    "\n",
    "\n",
    "        \n",
    "\n",
    "\n",
    "        hottydict['hot100'].append(dict(\n",
    "                                      Song_title = title,\n",
    "                                      Song_artist = artist,\n",
    "                                      Song_duration_weeks = songweeks,\n",
    "                                      Song_peak = peakPos,\n",
    "                                      Song_last_week = lastPos,\n",
    "                                      Song_rank = rank,\n",
    "                                      Song_isNew = isNew,\n",
    "                                        )\n",
    "                                    )\n",
    "    hottydict['featured_artists_billboard_hot100'] = artists\n",
    "    \n",
    "    artistmixes = len(artists)\n",
    "    \n",
    "    top100 = len(hotchart)\n",
    "    \n",
    "    total_artists_featured_perc = artistmixes/top100\n",
    "    \n",
    "    hottydict['total_artists_featured_perc'] = total_artists_featured_perc\n",
    "    \n",
    "    return hottydict\n",
    "\n",
    "                      "
   ]
  },
  {
   "cell_type": "code",
   "execution_count": 3,
   "metadata": {},
   "outputs": [
    {
     "name": "stdout",
     "output_type": "stream",
     "text": [
      "100\n",
      "'Thank U, Next' by Ariana Grande\n",
      "'Without Me' by Halsey\n"
     ]
    }
   ],
   "source": [
    "conn = 'mongodb://localhost:27017'\n",
    "client = pymongo.MongoClient(conn)\n",
    "\n",
    "db = client.christmascarol"
   ]
  },
  {
   "cell_type": "code",
   "execution_count": 4,
   "metadata": {},
   "outputs": [],
   "source": [
    "\n",
    "\n",
    "hotchart = billboard.ChartData('hot-100')\n",
    "while hotchart.previousDate:\n",
    "    \n",
    "    done_son = doworkson(hotchart)\n",
    "    db.billy_boards_first_run.insert_one(done_son)\n",
    "    \n",
    "    \n",
    "    hotchart = billboard.ChartData('hot-100', hotchart.previousDate)\n",
    "    "
   ]
  },
  {
   "cell_type": "code",
   "execution_count": null,
   "metadata": {},
   "outputs": [],
   "source": []
  }
 ],
 "metadata": {
  "kernelspec": {
   "display_name": "Python 3",
   "language": "python",
   "name": "python3"
  },
  "language_info": {
   "codemirror_mode": {
    "name": "ipython",
    "version": 3
   },
   "file_extension": ".py",
   "mimetype": "text/x-python",
   "name": "python",
   "nbconvert_exporter": "python",
   "pygments_lexer": "ipython3",
   "version": "3.6.5"
  }
 },
 "nbformat": 4,
 "nbformat_minor": 2
}
