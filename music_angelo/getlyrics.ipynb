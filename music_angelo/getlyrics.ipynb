{
 "cells": [
  {
   "cell_type": "code",
   "execution_count": 1,
   "metadata": {},
   "outputs": [],
   "source": [
    "import billboard\n",
    "import pandas\n",
    "import lyricwikia\n",
    "import time\n",
    "import pymongo\n",
    "import pandas as pd\n",
    "import json\n",
    "import requests\n",
    "import numpy as np\n",
    "\n",
    "from pprint import pprint"
   ]
  },
  {
   "cell_type": "code",
   "execution_count": 2,
   "metadata": {},
   "outputs": [
    {
     "data": {
      "text/html": [
       "<div>\n",
       "<style scoped>\n",
       "    .dataframe tbody tr th:only-of-type {\n",
       "        vertical-align: middle;\n",
       "    }\n",
       "\n",
       "    .dataframe tbody tr th {\n",
       "        vertical-align: top;\n",
       "    }\n",
       "\n",
       "    .dataframe thead th {\n",
       "        text-align: right;\n",
       "    }\n",
       "</style>\n",
       "<table border=\"1\" class=\"dataframe\">\n",
       "  <thead>\n",
       "    <tr style=\"text-align: right;\">\n",
       "      <th></th>\n",
       "      <th>Song_artist</th>\n",
       "      <th>Song_duration_weeks</th>\n",
       "      <th>Song_isNew</th>\n",
       "      <th>Song_last_week</th>\n",
       "      <th>Song_peak</th>\n",
       "      <th>Song_rank</th>\n",
       "      <th>Song_title</th>\n",
       "    </tr>\n",
       "  </thead>\n",
       "  <tbody>\n",
       "    <tr>\n",
       "      <th>0</th>\n",
       "      <td>Ariana Grande</td>\n",
       "      <td>6</td>\n",
       "      <td>False</td>\n",
       "      <td>1</td>\n",
       "      <td>1</td>\n",
       "      <td>1</td>\n",
       "      <td>Thank U, Next</td>\n",
       "    </tr>\n",
       "    <tr>\n",
       "      <th>1</th>\n",
       "      <td>Halsey</td>\n",
       "      <td>10</td>\n",
       "      <td>False</td>\n",
       "      <td>3</td>\n",
       "      <td>2</td>\n",
       "      <td>2</td>\n",
       "      <td>Without Me</td>\n",
       "    </tr>\n",
       "    <tr>\n",
       "      <th>2</th>\n",
       "      <td>Travis Scott</td>\n",
       "      <td>19</td>\n",
       "      <td>False</td>\n",
       "      <td>2</td>\n",
       "      <td>1</td>\n",
       "      <td>3</td>\n",
       "      <td>Sicko Mode</td>\n",
       "    </tr>\n",
       "  </tbody>\n",
       "</table>\n",
       "</div>"
      ],
      "text/plain": [
       "     Song_artist  Song_duration_weeks  Song_isNew  Song_last_week  Song_peak  \\\n",
       "0  Ariana Grande                    6       False               1          1   \n",
       "1         Halsey                   10       False               3          2   \n",
       "2   Travis Scott                   19       False               2          1   \n",
       "\n",
       "   Song_rank     Song_title  \n",
       "0          1  Thank U, Next  \n",
       "1          2     Without Me  \n",
       "2          3     Sicko Mode  "
      ]
     },
     "execution_count": 2,
     "metadata": {},
     "output_type": "execute_result"
    }
   ],
   "source": [
    "conn = 'mongodb://localhost:27017'\n",
    "client = pymongo.MongoClient(conn)\n",
    "db = client.christmascarol\n",
    "\n",
    "date = '2018-12-22'\n",
    "\n",
    "doc = db.billy_boards_first_run.aggregate( \n",
    "[ { \"$match\" : { 'currentChartWeek' : date } } ]\n",
    ")\n",
    "\n",
    "songs = []\n",
    "artists = []\n",
    "\n",
    "\n",
    "for d in doc:\n",
    "    \n",
    "    hot100 = d['hot100']\n",
    "        \n",
    "hot100_df = pd.DataFrame(hot100)      \n",
    "\n",
    "hot100_df.head(3)"
   ]
  },
  {
   "cell_type": "code",
   "execution_count": 3,
   "metadata": {},
   "outputs": [
    {
     "name": "stdout",
     "output_type": "stream",
     "text": [
      "2018-12-22\n"
     ]
    }
   ],
   "source": [
    "print(date)\n",
    "date = date\n",
    "\n",
    "doc = db.billy_boards_200.aggregate(\n",
    "    [ { \"$match\" : { 'currentChartWeek' : date } } ])\n",
    "\n",
    "# aggregate( \n",
    "# [ { \"$match\" : { 'currentChartWeek' : date } } ]\n",
    "# )\n",
    "\n",
    "\n",
    "\n",
    "for d in doc:\n",
    "    pprint(d)"
   ]
  },
  {
   "cell_type": "code",
   "execution_count": 6,
   "metadata": {},
   "outputs": [
    {
     "name": "stdout",
     "output_type": "stream",
     "text": [
      "0\n",
      "Ariana Grande\n",
      "Thank U, Next\n",
      "1\n",
      "Halsey\n",
      "Without Me\n",
      "2\n",
      "Travis Scott\n",
      "Sicko Mode\n",
      "3\n",
      "Marshmello & Bastille\n",
      "Happier\n",
      "4\n",
      "Panic! At The Disco\n",
      "High Hopes\n",
      "5\n",
      "Mariah Carey\n",
      "All I Want For Christmas Is You\n",
      "6\n",
      "Post Malone & Swae Lee\n",
      "Sunflower (Spider-Man: Into The Spider-Verse)\n",
      "7\n",
      "Lil Baby & Gunna\n",
      "Drip Too Hard\n",
      "8\n",
      "Kodak Black Featuring Travis Scott & Offset\n",
      "ZEZE\n"
     ]
    },
    {
     "ename": "LyricsNotFound",
     "evalue": "Cannot download lyrics",
     "output_type": "error",
     "traceback": [
      "\u001b[1;31m---------------------------------------------------------------------------\u001b[0m",
      "\u001b[1;31mLyricsNotFound\u001b[0m                            Traceback (most recent call last)",
      "\u001b[1;32m<ipython-input-6-09b1e5a289fc>\u001b[0m in \u001b[0;36m<module>\u001b[1;34m()\u001b[0m\n\u001b[0;32m     13\u001b[0m \u001b[1;31m#     print(lyrics)\u001b[0m\u001b[1;33m\u001b[0m\u001b[1;33m\u001b[0m\u001b[0m\n\u001b[0;32m     14\u001b[0m \u001b[1;33m\u001b[0m\u001b[0m\n\u001b[1;32m---> 15\u001b[1;33m     \u001b[0mlyrics\u001b[0m \u001b[1;33m=\u001b[0m \u001b[0mlyricwikia\u001b[0m\u001b[1;33m.\u001b[0m\u001b[0mget_lyrics\u001b[0m\u001b[1;33m(\u001b[0m\u001b[0martist\u001b[0m\u001b[1;33m,\u001b[0m \u001b[0mtitle\u001b[0m\u001b[1;33m)\u001b[0m\u001b[1;33m\u001b[0m\u001b[0m\n\u001b[0m\u001b[0;32m     16\u001b[0m     \u001b[0mtime\u001b[0m\u001b[1;33m.\u001b[0m\u001b[0msleep\u001b[0m\u001b[1;33m(\u001b[0m\u001b[1;36m1.5\u001b[0m\u001b[1;33m)\u001b[0m\u001b[1;33m\u001b[0m\u001b[0m\n\u001b[0;32m     17\u001b[0m     \u001b[0msonglyric_master\u001b[0m\u001b[1;33m.\u001b[0m\u001b[0mappend\u001b[0m\u001b[1;33m(\u001b[0m\u001b[0mlyrics\u001b[0m\u001b[1;33m)\u001b[0m\u001b[1;33m\u001b[0m\u001b[0m\n",
      "\u001b[1;32m~\\Anaconda3\\lib\\site-packages\\lyricwikia\\lyricwikia.py\u001b[0m in \u001b[0;36mget_lyrics\u001b[1;34m(artist, song, linesep, timeout)\u001b[0m\n\u001b[0;32m     28\u001b[0m     \"\"\"Retrieve the lyrics of the song and return the first one in case\n\u001b[0;32m     29\u001b[0m     multiple versions are available.\"\"\"\n\u001b[1;32m---> 30\u001b[1;33m     \u001b[1;32mreturn\u001b[0m \u001b[0mget_all_lyrics\u001b[0m\u001b[1;33m(\u001b[0m\u001b[0martist\u001b[0m\u001b[1;33m,\u001b[0m \u001b[0msong\u001b[0m\u001b[1;33m,\u001b[0m \u001b[0mlinesep\u001b[0m\u001b[1;33m,\u001b[0m \u001b[0mtimeout\u001b[0m\u001b[1;33m)\u001b[0m\u001b[1;33m[\u001b[0m\u001b[1;36m0\u001b[0m\u001b[1;33m]\u001b[0m\u001b[1;33m\u001b[0m\u001b[0m\n\u001b[0m\u001b[0;32m     31\u001b[0m \u001b[1;33m\u001b[0m\u001b[0m\n\u001b[0;32m     32\u001b[0m \u001b[1;33m\u001b[0m\u001b[0m\n",
      "\u001b[1;32m~\\Anaconda3\\lib\\site-packages\\lyricwikia\\lyricwikia.py\u001b[0m in \u001b[0;36mget_all_lyrics\u001b[1;34m(artist, song, linesep, timeout)\u001b[0m\n\u001b[0;32m     39\u001b[0m \u001b[1;33m\u001b[0m\u001b[0m\n\u001b[0;32m     40\u001b[0m     \u001b[1;32mif\u001b[0m \u001b[1;32mnot\u001b[0m \u001b[0mlyricboxes\u001b[0m\u001b[1;33m:\u001b[0m\u001b[1;33m\u001b[0m\u001b[0m\n\u001b[1;32m---> 41\u001b[1;33m         \u001b[1;32mraise\u001b[0m \u001b[0mLyricsNotFound\u001b[0m\u001b[1;33m(\u001b[0m\u001b[1;34m'Cannot download lyrics'\u001b[0m\u001b[1;33m)\u001b[0m\u001b[1;33m\u001b[0m\u001b[0m\n\u001b[0m\u001b[0;32m     42\u001b[0m \u001b[1;33m\u001b[0m\u001b[0m\n\u001b[0;32m     43\u001b[0m     \u001b[1;32mfor\u001b[0m \u001b[0mlyricbox\u001b[0m \u001b[1;32min\u001b[0m \u001b[0mlyricboxes\u001b[0m\u001b[1;33m:\u001b[0m\u001b[1;33m\u001b[0m\u001b[0m\n",
      "\u001b[1;31mLyricsNotFound\u001b[0m: Cannot download lyrics"
     ]
    }
   ],
   "source": [
    "songlyric_master = []\n",
    "\n",
    "for i, row in hot100_df.iterrows():\n",
    "    print(i)\n",
    "    lyrics = \"\"\n",
    "#     print(lyrics)\n",
    "    \n",
    "    artist = row['Song_artist']\n",
    "    title = row['Song_title']\n",
    "    \n",
    "    print(artist)\n",
    "    print(title)\n",
    "#     print(lyrics)\n",
    "    \n",
    "    lyrics = lyricwikia.get_lyrics(artist, title)\n",
    "    time.sleep(1.5)    \n",
    "    songlyric_master.append(lyrics)\n",
    "    \n",
    "#     print(lyrics)\n",
    "    "
   ]
  },
  {
   "cell_type": "code",
   "execution_count": null,
   "metadata": {},
   "outputs": [],
   "source": [
    "# lyrics = pd.DataFrame({\"lyrics\": songlyric_master})\n",
    "# print(lyrics)\n",
    "# chart_w_lyrics = pd.concat([hot100_df, lyrics])\n",
    "# chart_w_lyrics"
   ]
  },
  {
   "cell_type": "code",
   "execution_count": null,
   "metadata": {},
   "outputs": [],
   "source": []
  }
 ],
 "metadata": {
  "kernelspec": {
   "display_name": "Python 3",
   "language": "python",
   "name": "python3"
  },
  "language_info": {
   "codemirror_mode": {
    "name": "ipython",
    "version": 3
   },
   "file_extension": ".py",
   "mimetype": "text/x-python",
   "name": "python",
   "nbconvert_exporter": "python",
   "pygments_lexer": "ipython3",
   "version": "3.6.5"
  }
 },
 "nbformat": 4,
 "nbformat_minor": 2
}
